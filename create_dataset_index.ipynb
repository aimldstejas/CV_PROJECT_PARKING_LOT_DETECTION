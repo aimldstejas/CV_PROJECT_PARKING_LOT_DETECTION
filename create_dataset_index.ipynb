{
 "cells": [
  {
   "cell_type": "markdown",
   "metadata": {},
   "source": [
    "# Create Dataset for models"
   ]
  },
  {
   "cell_type": "markdown",
   "metadata": {},
   "source": [
    "This notebook is used to create dataset for all the models such as CNN and CNN-SVM models. \n",
    " - For CNN-SVM models .csv files are created for train and test set to extract features separately using extract_features_from_images.py file\n",
    " - For CNN models, images are copied from PKLot Segmented folder into separate dataset folder with below folder structure\n",
    "     - cnn_dataset\n",
    "         - train\n",
    "             - Empty\n",
    "             - Occupied\n",
    "         - valid\n",
    "             - Empty\n",
    "             - Occupied"
   ]
  },
  {
   "cell_type": "code",
   "execution_count": 1,
   "metadata": {},
   "outputs": [],
   "source": [
    "from shutil import copy2\n",
    "from glob import glob\n",
    "import os\n",
    "import pandas as pd\n",
    "import matplotlib.pyplot as plt\n",
    "import numpy as np\n",
    "\n",
    "np.random.seed(1381)\n",
    "\n",
    "%matplotlib inline"
   ]
  },
  {
   "cell_type": "code",
   "execution_count": 2,
   "metadata": {},
   "outputs": [],
   "source": [
    "# Set the folders and its path to create train and validation split\n",
    "# Model is trained on images from one parking lot and tested on another one\n",
    "root_dir = \"../../datasets/PKLot/PKLotSegmented/\"\n",
    "classes = [\"Empty\", \"Occupied\"]\n",
    "\n",
    "datasets = {\n",
    "    \"train\": [\"UFPR04/Sunny/\", \"UFPR04/Rainy/\", \"UFPR04/Cloudy/\", \"UFPR05/Sunny/\", \"UFPR05/Rainy/\", \"UFPR05/Cloudy/\"],\n",
    "    \"valid\": [\"PUC/Sunny/\",\"PUC/Rainy/\", \"PUC/Cloudy/\"]\n",
    "}"
   ]
  },
  {
   "cell_type": "code",
   "execution_count": 3,
   "metadata": {},
   "outputs": [],
   "source": [
    "# Split the images into train and validation dataset and write the list as csv file\n",
    "train_dataset = []\n",
    "valid_dataset = []\n",
    "                  \n",
    "for c in classes:\n",
    "    for data_type in datasets:\n",
    "        for folder in datasets[data_type]:\n",
    "            dir_content = [d for d in os.listdir(os.path.join(root_dir,folder)) if os.path.isdir(os.path.join(root_dir,folder,d))]\n",
    "            #print(dir_content)\n",
    "            for d in dir_content:\n",
    "                folder_path = os.path.join(root_dir,folder,d, c)\n",
    "                images = glob(os.path.join(folder_path, \"*.jpg\"))\n",
    "                if len(images)>0:\n",
    "                    if data_type == 'train':\n",
    "                        sample_size = 0.3\n",
    "                    else:\n",
    "                        sample_size = 0.1\n",
    "                    random_sample = np.random.choice(images, replace=False,size=int(len(images)*sample_size))\n",
    "                    #print(len(random_sample))\n",
    "                    for img in random_sample:\n",
    "                        image_name = img.split(\"/\")[-1]\n",
    "                        temp = {}\n",
    "                        temp['image_name'] = image_name\n",
    "                        temp[\"label\"] = c\n",
    "                        temp['folder_path'] = os.path.join(folder,d)\n",
    "                        temp['data_type'] = data_type\n",
    "                        if data_type == 'train':\n",
    "                            train_dataset.append(temp)\n",
    "                        else:\n",
    "                            valid_dataset.append(temp)"
   ]
  },
  {
   "cell_type": "code",
   "execution_count": 4,
   "metadata": {},
   "outputs": [],
   "source": [
    "# convert the list into dataframe to store them as csv file\n",
    "df_train = pd.DataFrame(train_dataset)\n",
    "df_valid = pd.DataFrame(valid_dataset)\n",
    "\n",
    "# shuffle the dataset\n",
    "df_train = df_train.sample(frac=1, random_state=1431)\n",
    "df_valid = df_valid.sample(frac=1, random_state=1431)"
   ]
  },
  {
   "cell_type": "code",
   "execution_count": 5,
   "metadata": {},
   "outputs": [
    {
     "name": "stdout",
     "output_type": "stream",
     "text": [
      "Train dataset size:  (81406, 4)\n",
      "Valid dataset size:  (42384, 4)\n"
     ]
    }
   ],
   "source": [
    "print(\"Train dataset size: \", df_train.shape)\n",
    "print(\"Valid dataset size: \", df_valid.shape)"
   ]
  },
  {
   "cell_type": "code",
   "execution_count": 6,
   "metadata": {},
   "outputs": [],
   "source": [
    "def show_label_distribution(df):\n",
    "    df_class = pd.DataFrame(df['label'].value_counts())\n",
    "    df_class = df_class.reset_index()\n",
    "    df_class = df_class.rename(columns={'index': 'label', 'label': 'count'})\n",
    "    df_class['percentage'] = round((df_class['count'] / sum(df_class['count']))*100, 2)\n",
    "    return df_class"
   ]
  },
  {
   "cell_type": "code",
   "execution_count": 7,
   "metadata": {},
   "outputs": [
    {
     "name": "stdout",
     "output_type": "stream",
     "text": [
      "Train dataset        label  count  percentage\n",
      "0  Occupied  43027       52.85\n",
      "1     Empty  38379       47.15\n",
      "Valid dataset        label  count  percentage\n",
      "0     Empty  22980       54.22\n",
      "1  Occupied  19404       45.78\n"
     ]
    }
   ],
   "source": [
    "train_df = show_label_distribution(df_train)\n",
    "print(\"Train dataset \", train_df)\n",
    "valid_df = show_label_distribution(df_valid)\n",
    "print(\"Valid dataset \", valid_df)"
   ]
  },
  {
   "cell_type": "markdown",
   "metadata": {},
   "source": [
    "### Create index file for CNN-SVM models"
   ]
  },
  {
   "cell_type": "code",
   "execution_count": 8,
   "metadata": {},
   "outputs": [],
   "source": [
    "df_train.to_csv('pklot_dataset/dataset_train.csv', index=False)\n",
    "df_valid.to_csv('pklot_dataset/dataset_valid.csv', index=False)"
   ]
  },
  {
   "cell_type": "code",
   "execution_count": 9,
   "metadata": {},
   "outputs": [
    {
     "data": {
      "text/html": [
       "<div>\n",
       "<style scoped>\n",
       "    .dataframe tbody tr th:only-of-type {\n",
       "        vertical-align: middle;\n",
       "    }\n",
       "\n",
       "    .dataframe tbody tr th {\n",
       "        vertical-align: top;\n",
       "    }\n",
       "\n",
       "    .dataframe thead th {\n",
       "        text-align: right;\n",
       "    }\n",
       "</style>\n",
       "<table border=\"1\" class=\"dataframe\">\n",
       "  <thead>\n",
       "    <tr style=\"text-align: right;\">\n",
       "      <th></th>\n",
       "      <th>data_type</th>\n",
       "      <th>folder_path</th>\n",
       "      <th>image_name</th>\n",
       "      <th>label</th>\n",
       "    </tr>\n",
       "  </thead>\n",
       "  <tbody>\n",
       "    <tr>\n",
       "      <th>75820</th>\n",
       "      <td>train</td>\n",
       "      <td>UFPR05/Cloudy/2013-03-12</td>\n",
       "      <td>2013-03-12_16_15_12#016.jpg</td>\n",
       "      <td>Occupied</td>\n",
       "    </tr>\n",
       "    <tr>\n",
       "      <th>29303</th>\n",
       "      <td>train</td>\n",
       "      <td>UFPR05/Sunny/2013-03-16</td>\n",
       "      <td>2013-03-16_15_20_11#036.jpg</td>\n",
       "      <td>Empty</td>\n",
       "    </tr>\n",
       "    <tr>\n",
       "      <th>21360</th>\n",
       "      <td>train</td>\n",
       "      <td>UFPR05/Sunny/2013-03-02</td>\n",
       "      <td>2013-03-02_12_40_07#037.jpg</td>\n",
       "      <td>Empty</td>\n",
       "    </tr>\n",
       "  </tbody>\n",
       "</table>\n",
       "</div>"
      ],
      "text/plain": [
       "      data_type               folder_path                   image_name  \\\n",
       "75820     train  UFPR05/Cloudy/2013-03-12  2013-03-12_16_15_12#016.jpg   \n",
       "29303     train   UFPR05/Sunny/2013-03-16  2013-03-16_15_20_11#036.jpg   \n",
       "21360     train   UFPR05/Sunny/2013-03-02  2013-03-02_12_40_07#037.jpg   \n",
       "\n",
       "          label  \n",
       "75820  Occupied  \n",
       "29303     Empty  \n",
       "21360     Empty  "
      ]
     },
     "execution_count": 9,
     "metadata": {},
     "output_type": "execute_result"
    }
   ],
   "source": [
    "df_train.head(3)"
   ]
  },
  {
   "cell_type": "code",
   "execution_count": 10,
   "metadata": {},
   "outputs": [
    {
     "data": {
      "text/html": [
       "<div>\n",
       "<style scoped>\n",
       "    .dataframe tbody tr th:only-of-type {\n",
       "        vertical-align: middle;\n",
       "    }\n",
       "\n",
       "    .dataframe tbody tr th {\n",
       "        vertical-align: top;\n",
       "    }\n",
       "\n",
       "    .dataframe thead th {\n",
       "        text-align: right;\n",
       "    }\n",
       "</style>\n",
       "<table border=\"1\" class=\"dataframe\">\n",
       "  <thead>\n",
       "    <tr style=\"text-align: right;\">\n",
       "      <th></th>\n",
       "      <th>data_type</th>\n",
       "      <th>folder_path</th>\n",
       "      <th>image_name</th>\n",
       "      <th>label</th>\n",
       "    </tr>\n",
       "  </thead>\n",
       "  <tbody>\n",
       "    <tr>\n",
       "      <th>39424</th>\n",
       "      <td>valid</td>\n",
       "      <td>PUC/Cloudy/2012-09-12</td>\n",
       "      <td>2012-09-12_07_44_29#020.jpg</td>\n",
       "      <td>Occupied</td>\n",
       "    </tr>\n",
       "    <tr>\n",
       "      <th>26136</th>\n",
       "      <td>valid</td>\n",
       "      <td>PUC/Sunny/2012-09-13</td>\n",
       "      <td>2012-09-13_11_50_21#046.jpg</td>\n",
       "      <td>Occupied</td>\n",
       "    </tr>\n",
       "    <tr>\n",
       "      <th>7062</th>\n",
       "      <td>valid</td>\n",
       "      <td>PUC/Sunny/2012-09-16</td>\n",
       "      <td>2012-09-16_17_58_23#017.jpg</td>\n",
       "      <td>Empty</td>\n",
       "    </tr>\n",
       "  </tbody>\n",
       "</table>\n",
       "</div>"
      ],
      "text/plain": [
       "      data_type            folder_path                   image_name     label\n",
       "39424     valid  PUC/Cloudy/2012-09-12  2012-09-12_07_44_29#020.jpg  Occupied\n",
       "26136     valid   PUC/Sunny/2012-09-13  2012-09-13_11_50_21#046.jpg  Occupied\n",
       "7062      valid   PUC/Sunny/2012-09-16  2012-09-16_17_58_23#017.jpg     Empty"
      ]
     },
     "execution_count": 10,
     "metadata": {},
     "output_type": "execute_result"
    }
   ],
   "source": [
    "df_valid.head(3)"
   ]
  },
  {
   "cell_type": "markdown",
   "metadata": {},
   "source": [
    "## Create train and valid dataset for CNN models"
   ]
  },
  {
   "cell_type": "code",
   "execution_count": 12,
   "metadata": {},
   "outputs": [],
   "source": [
    "import pandas as pd\n",
    "import os\n",
    "from shutil import copy2"
   ]
  },
  {
   "cell_type": "code",
   "execution_count": 13,
   "metadata": {},
   "outputs": [],
   "source": [
    "root_dir = \"../../datasets/PKLot/PKLotSegmented/\"\n",
    "df_train = pd.read_csv(\"pklot_dataset/dataset_train.csv\")\n",
    "df_valid = pd.read_csv(\"pklot_dataset/dataset_valid.csv\")"
   ]
  },
  {
   "cell_type": "code",
   "execution_count": 14,
   "metadata": {},
   "outputs": [],
   "source": [
    "cnn_dataset = \"pklot_dataset/cnn_dataset/\"\n",
    "\n",
    "if not os.path.isdir(cnn_dataset):\n",
    "    os.makedirs(cnn_dataset)\n",
    "    print('CNN dataset folder created at ', cnn_dataset)"
   ]
  },
  {
   "cell_type": "markdown",
   "metadata": {},
   "source": [
    "Create sample datataset. To create full train and valid dataset set the sample size to 100000 (size greater than number of images in df_train and df_valid to include all the images)"
   ]
  },
  {
   "cell_type": "code",
   "execution_count": 20,
   "metadata": {},
   "outputs": [],
   "source": [
    "# set sample size to create sample dataset\n",
    "train_sample_size = 5000\n",
    "valid_sample_size = 500"
   ]
  },
  {
   "cell_type": "markdown",
   "metadata": {},
   "source": [
    "### Copy train dataset"
   ]
  },
  {
   "cell_type": "code",
   "execution_count": 21,
   "metadata": {},
   "outputs": [
    {
     "name": "stdout",
     "output_type": "stream",
     "text": [
      "Total train images: 5001\n"
     ]
    }
   ],
   "source": [
    "if not os.path.isdir(os.path.join(cnn_dataset, 'train', 'Occupied')):\n",
    "    os.makedirs(os.path.join(cnn_dataset, 'train', 'Occupied'))\n",
    "    print('train/Occupied folder created at ', cnn_dataset)\n",
    "\n",
    "if not os.path.isdir(os.path.join(cnn_dataset, 'train', 'Empty')):\n",
    "    os.makedirs(os.path.join(cnn_dataset, 'train', 'Empty'))\n",
    "    print('train/Empty folder created at ', cnn_dataset)\n",
    "\n",
    "count = 1\n",
    "for idx in df_train.index.values[:train_sample_size]:\n",
    "    src = os.path.join(root_dir, df_train.loc[idx, 'folder_path'], df_train.loc[idx, 'label'], df_train.loc[idx, 'image_name'])\n",
    "    if df_train.loc[idx, 'label'] == 'Occupied':\n",
    "        dst = os.path.join(cnn_dataset, 'train', 'Occupied')\n",
    "    else:\n",
    "        dst = os.path.join(cnn_dataset, 'train', 'Empty')\n",
    "        \n",
    "    copy2(src, dst)\n",
    "    count+=1\n",
    "\n",
    "print(\"Total train images:\", count)"
   ]
  },
  {
   "cell_type": "markdown",
   "metadata": {},
   "source": [
    "### Copy valid dataset"
   ]
  },
  {
   "cell_type": "code",
   "execution_count": 22,
   "metadata": {},
   "outputs": [
    {
     "name": "stdout",
     "output_type": "stream",
     "text": [
      "Total valid images: 501\n"
     ]
    }
   ],
   "source": [
    "if not os.path.isdir(os.path.join(cnn_dataset, 'valid', 'Occupied')):\n",
    "    os.makedirs(os.path.join(cnn_dataset, 'valid', 'Occupied'))\n",
    "    print('valid/Occupied folder created at ', cnn_dataset)\n",
    "\n",
    "if not os.path.isdir(os.path.join(cnn_dataset, 'valid', 'Empty')):\n",
    "    os.makedirs(os.path.join(cnn_dataset, 'valid', 'Empty'))\n",
    "    print('valid/Empty folder created at ', cnn_dataset)\n",
    "\n",
    "count = 1\n",
    "for idx in df_valid.index.values[:valid_sample_size]:\n",
    "    src = os.path.join(root_dir, df_valid.loc[idx, 'folder_path'], df_valid.loc[idx, 'label'], df_valid.loc[idx, 'image_name'])\n",
    "    if df_valid.loc[idx, 'label'] == 'Occupied':\n",
    "        dst = os.path.join(cnn_dataset, 'valid', 'Occupied')\n",
    "    else:\n",
    "        dst = os.path.join(cnn_dataset, 'valid', 'Empty')\n",
    "        \n",
    "    copy2(src, dst)\n",
    "    count+=1\n",
    "    \n",
    "print(\"Total valid images:\", count)"
   ]
  },
  {
   "cell_type": "code",
   "execution_count": null,
   "metadata": {},
   "outputs": [],
   "source": []
  },
  {
   "cell_type": "code",
   "execution_count": null,
   "metadata": {},
   "outputs": [],
   "source": []
  }
 ],
 "metadata": {
  "kernelspec": {
   "display_name": "Environment (conda_tensorflow_p36)",
   "language": "python",
   "name": "conda_tensorflow_p36"
  },
  "language_info": {
   "codemirror_mode": {
    "name": "ipython",
    "version": 3
   },
   "file_extension": ".py",
   "mimetype": "text/x-python",
   "name": "python",
   "nbconvert_exporter": "python",
   "pygments_lexer": "ipython3",
   "version": "3.6.5"
  }
 },
 "nbformat": 4,
 "nbformat_minor": 2
}
